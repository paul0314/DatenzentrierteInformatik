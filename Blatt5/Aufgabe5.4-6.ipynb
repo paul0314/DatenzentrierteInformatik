{
 "cells": [
  {
   "cell_type": "code",
   "execution_count": 1,
   "metadata": {},
   "outputs": [],
   "source": [
    "import sqlite3"
   ]
  },
  {
   "cell_type": "code",
   "execution_count": 2,
   "metadata": {},
   "outputs": [],
   "source": [
    "def newLine():\n",
    "    print(\"\")\n",
    "\n",
    "def printTable(cursor):\n",
    "    keys = []\n",
    "    listOfRows = []\n",
    "    #speichere Rows in Liste und speichere keys in keys um weiter damit arbeiten zu können\n",
    "    for row in cursor:\n",
    "        keys = row.keys()\n",
    "        listOfRows.append(list(row))\n",
    "    #Minimum length required for column\n",
    "    length = [len(key) for key in keys]\n",
    "    #bestimme max length von jedem column\n",
    "    for row in listOfRows:\n",
    "        for i in range(len(length)):\n",
    "            if len(str(row[i])) > length[i]:\n",
    "                length[i] = len(str(row[i]))\n",
    "    #\"Puffer\" (für ein Leerzeichen zwischen den columns)\n",
    "    length = [i+1 for i in length]\n",
    "    #print \"Überschriften\" / \"column-Titel (die Namen der Keys)\"\n",
    "    for i in range(len(keys)):\n",
    "        print(str(keys[i]).rjust(length[i],\" \"), end=\"\")\n",
    "    newLine()\n",
    "    #Seperierungszeile zwischen Keynamen und Daten\n",
    "    print(\"-\",end=\"\")\n",
    "    for i in range(len(length)):\n",
    "        print(\"-\"*(length[i]-1), end=\" \")\n",
    "    newLine()\n",
    "    #Printe alle Daten (in Tabellenform)\n",
    "    for row in listOfRows:\n",
    "        for i in range(len(length)):\n",
    "            print(row[i].rjust(length[i],\" \"), end=\"\")\n",
    "        newLine()"
   ]
  },
  {
   "cell_type": "code",
   "execution_count": 3,
   "metadata": {},
   "outputs": [],
   "source": [
    "con = sqlite3.connect(\":memory:\")\n",
    "con.execute(\"PRAGMA foreign_keys=ON\")\n",
    "con.row_factory = sqlite3.Row\n",
    "cursor = con.cursor()\n",
    "\n",
    "try:\n",
    "    con.execute(\n",
    "        \"CREATE TABLE IF NOT EXISTS user(username TEXT NOT NULL, reg_Date TEXT, password_hash TEXT, PRIMARY KEY (username))\"\n",
    "    )\n",
    "    con.commit()\n",
    "except:\n",
    "    con.rollback()\n",
    "\n",
    "try:\n",
    "    con.execute(\n",
    "        \"CREATE TABLE IF NOT EXISTS video (videoID INTEGER NOT NULL, videoTitle TEXT, uploadDate TEXT, username TEXT, PRIMARY KEY (videoID), FOREIGN KEY (username) REFERENCES user)\"\n",
    "    )\n",
    "    con.commit()\n",
    "except:\n",
    "    con.rollback()\n",
    "\n",
    "try:\n",
    "    con.execute(\n",
    "        \"CREATE TABLE IF NOT EXISTS comments (cID INTEGER NOT NULL, text TEXT, timestamp TEXT, username TEXT NOT NULL,  videoID INTEGER NOT NULL, parentID INTEGER, PRIMARY KEY (cID), FOREIGN KEY (parentID) REFERENCES comments, FOREIGN KEY (username) REFERENCES user, FOREIGN KEY (videoID) REFERENCES video)\"\n",
    "    )\n",
    "    con.commit()\n",
    "except:\n",
    "    con.rollback()\n",
    "\n",
    "try:\n",
    "    con.execute(\n",
    "        \"CREATE TABLE IF NOT EXISTS views (viewID INTEGER NOT NULL, videoID INTEGER NOT NULL, viewDate TEXT, username TEXT NOT NULL, PRIMARY KEY (viewID), FOREIGN KEY (videoID) REFERENCES video, FOREIGN KEY (username) REFERENCES user)\"\n",
    "    )\n",
    "    con.commit()\n",
    "except:\n",
    "    con.rollback()"
   ]
  },
  {
   "cell_type": "code",
   "execution_count": 4,
   "metadata": {},
   "outputs": [],
   "source": [
    "try:\n",
    "    con.execute(\"INSERT INTO user VALUES('dingbat', '2021-01-04', '#FF12A9')\")\n",
    "    con.commit()\n",
    "except:\n",
    "    con.rollback()\n",
    "\n",
    "try:\n",
    "    con.execute(\"INSERT INTO user VALUES('brangdag', '2021-01-04', '#614D3E')\")\n",
    "    con.commit()\n",
    "except:\n",
    "    con.rollback()\n",
    "\n",
    "try:\n",
    "    con.execute(\"INSERT INTO user VALUES('gigecon', '2021-01-05', '#899FF2')\")\n",
    "    con.commit()\n",
    "except:\n",
    "    con.rollback()\n",
    "\n",
    "try:\n",
    "    con.execute(\"INSERT INTO user VALUES('nico234', '2021-01-06', '#003BC1')\")\n",
    "    con.commit()\n",
    "except:\n",
    "    con.rollback()\n",
    "    \n",
    "try:\n",
    "    con.execute(\"INSERT INTO user VALUES('senftorte', '2021-01-06', '#113B81')\")\n",
    "    con.commit()\n",
    "except:\n",
    "    con.rollback()\n",
    "\n",
    "try:\n",
    "    con.execute(\"INSERT INTO user VALUES('honeypot', '2021-01-06', '#343321')\")\n",
    "    con.commit()\n",
    "except:\n",
    "    con.rollback()\n",
    "    \n",
    "try:\n",
    "    con.execute(\"INSERT INTO user VALUES('zoomfish', '2021-01-06', '#17EECD')\")\n",
    "    con.commit()\n",
    "except:\n",
    "    con.rollback()\n",
    "    \n",
    "    \n",
    "try:\n",
    "    con.execute(\"INSERT INTO video (videoTitle, uploadDate, username) VALUES('my cat watches videos', '2021-01-04', 'dingbat')\")\n",
    "    con.commit()\n",
    "except:\n",
    "    con.rollback()\n",
    "    \n",
    "try:\n",
    "    con.execute(\"INSERT INTO video (videoTitle, uploadDate, username) VALUES('in soviet russia videos watch your cat', '2021-01-05', 'gigecon')\")\n",
    "    con.commit()\n",
    "except:\n",
    "    con.rollback()\n",
    "\n",
    "try:\n",
    "    con.execute(\"INSERT INTO video (videoTitle, uploadDate, username) VALUES('introduction to machine learning (1)', '2021-01-06', 'senftorte')\")\n",
    "    con.commit()\n",
    "except:\n",
    "    con.rollback()\n",
    "    \n",
    "try:\n",
    "    con.execute(\"INSERT INTO video (videoTitle, uploadDate, username) VALUES('introduction to machine learning (2)', '2021-01-06', 'senftorte')\")\n",
    "    con.commit()\n",
    "except:\n",
    "    con.rollback()\n",
    "    \n",
    "try:\n",
    "    con.execute(\"INSERT INTO video (videoTitle, uploadDate, username) VALUES('honigkuchen backen', '2021-01-06', 'honeypot')\")\n",
    "    con.commit()\n",
    "except:\n",
    "    con.rollback()\n",
    "\n",
    "    \n",
    "    \n",
    "try:\n",
    "    con.execute(\"INSERT INTO views (videoID, viewDate, username) VALUES(1, '2021-01-05', 'brangdag')\")\n",
    "    con.commit()\n",
    "except:\n",
    "    con.rollback()\n",
    "\n",
    "try:\n",
    "    con.execute(\"INSERT INTO views (videoID, viewDate, username) VALUES(1, '2021-01-05', 'brangdag')\")\n",
    "    con.commit()\n",
    "except:\n",
    "    con.rollback()\n",
    "    \n",
    "try:\n",
    "    con.execute(\"INSERT INTO views (videoID, viewDate, username) VALUES(1, '2021-01-05', 'brangdag')\")\n",
    "    con.commit()\n",
    "except:\n",
    "    con.rollback()\n",
    "    \n",
    "try:\n",
    "    con.execute(\"INSERT INTO views (videoID, viewDate, username) VALUES(2, '2021-01-06', 'brangdag')\")\n",
    "    con.commit()\n",
    "except:\n",
    "    con.rollback()\n",
    "    \n",
    "try:\n",
    "    con.execute(\"INSERT INTO views (videoID, viewDate, username) VALUES(2, '2021-01-06', 'dingbat')\")\n",
    "    con.commit()\n",
    "except:\n",
    "    con.rollback()\n",
    "    \n",
    "try:\n",
    "    con.execute(\"INSERT INTO views (videoID, viewDate, username) VALUES(2, '2021-01-06', 'honeypot')\")\n",
    "    con.commit()\n",
    "except:\n",
    "    con.rollback()\n",
    "    \n",
    "try:\n",
    "    con.execute(\"INSERT INTO views (videoID, viewDate, username) VALUES(1, '2021-01-06', 'senftorte')\")\n",
    "    con.commit()\n",
    "except:\n",
    "    con.rollback()\n",
    "    \n",
    "try:\n",
    "    con.execute(\"INSERT INTO views (videoID, viewDate, username) VALUES(5, '2021-01-07', 'nico234')\")\n",
    "    con.commit()\n",
    "except:\n",
    "    con.rollback()\n",
    "    \n",
    "try:\n",
    "    con.execute(\"INSERT INTO views (videoID, viewDate, username) VALUES(5, '2021-01-07', 'dingbat')\")\n",
    "    con.commit()\n",
    "except:\n",
    "    con.rollback()\n",
    "\n",
    "    \n",
    "    \n",
    "try:\n",
    "    con.execute(\"INSERT INTO comments (text, timestamp, username, videoID) VALUES('LOL', '2021-01-05', 'brangdag', 1)\")\n",
    "    con.commit()\n",
    "except:\n",
    "    con.rollback()\n",
    "    \n",
    "try:\n",
    "    con.execute(\"INSERT INTO comments (text, timestamp, username, videoID) VALUES('lecker!', '2021-01-07', 'gigecon', 5)\")\n",
    "    con.commit()\n",
    "except:\n",
    "    con.rollback()\n",
    "    \n",
    "try:\n",
    "    con.execute(\"INSERT INTO comments (text, timestamp, username, videoID) VALUES('find ich auch', '2021-01-07', 'dingbat', 5)\")\n",
    "    con.commit()\n",
    "except:\n",
    "    con.rollback()\n",
    "\n",
    "    \n",
    "    \n",
    "try:\n",
    "    con.execute(\"INSERT INTO comments (text, timestamp, username, videoID, parentID) VALUES('srsly? nobody?', '2021-01-05', 'brangdag', 1, 1)\")\n",
    "    con.commit()\n",
    "except:\n",
    "    con.rollback()\n",
    "    \n",
    "try:\n",
    "    con.execute(\"INSERT INTO comments (text, timestamp, username, videoID, parentID) VALUES('@brangdag nope', '2021-01-06', 'nico234', 1, 4)\")\n",
    "    con.commit()\n",
    "except:\n",
    "    con.rollback()"
   ]
  },
  {
   "cell_type": "code",
   "execution_count": 5,
   "metadata": {},
   "outputs": [],
   "source": [
    "try:\n",
    "    con.execute(\"INSERT INTO user (username) VALUES('senftorte')\")\n",
    "    con.commit()\n",
    "except:\n",
    "    con.rollback()\n",
    "\n",
    "# wird nicht hinzugefügt, man landet im except-Block (IntegrityError: UNIQUE constraint failed: user.username wenn \n",
    "# die try/except Struktur weggelassen wird)"
   ]
  },
  {
   "cell_type": "code",
   "execution_count": 6,
   "metadata": {},
   "outputs": [
    {
     "name": "stdout",
     "output_type": "stream",
     "text": [
      "                             videoTitle uploadDate\n",
      "--------------------------------------- ---------- \n",
      "                  my cat watches videos 2021-01-04\n",
      " in soviet russia videos watch your cat 2021-01-05\n"
     ]
    }
   ],
   "source": [
    "cursor.execute(\"SELECT videoTitle, uploadDate FROM video WHERE videoTitle LIKE '%cat%'\")\n",
    "\n",
    "printTable(cursor)"
   ]
  },
  {
   "cell_type": "code",
   "execution_count": 7,
   "metadata": {},
   "outputs": [
    {
     "name": "stdout",
     "output_type": "stream",
     "text": [
      "2 Videotitel enthalten das Wort 'introduction'.\n"
     ]
    }
   ],
   "source": [
    "cursor.execute(\"SELECT COUNT(videoTitle) FROM video WHERE videoTitle LIKE '%introduction%'\")\n",
    "print(cursor.fetchall()[0][0], \"Videotitel enthalten das Wort 'introduction'.\")"
   ]
  },
  {
   "cell_type": "code",
   "execution_count": 8,
   "metadata": {},
   "outputs": [
    {
     "name": "stdout",
     "output_type": "stream",
     "text": [
      "                             videoTitle   viewDate\n",
      "--------------------------------------- ---------- \n",
      " in soviet russia videos watch your cat 2021-01-06\n",
      "                     honigkuchen backen 2021-01-07\n"
     ]
    }
   ],
   "source": [
    "cursor.execute(\"SELECT videoTitle, viewDate FROM video, views WHERE video.videoID = views.videoID AND views.username LIKE 'dingbat'\")\n",
    "\n",
    "printTable(cursor)"
   ]
  },
  {
   "cell_type": "code",
   "execution_count": 9,
   "metadata": {},
   "outputs": [
    {
     "name": "stdout",
     "output_type": "stream",
     "text": [
      " username uploadDate\n",
      "--------- ---------- \n",
      "  gigecon 2021-01-05\n",
      " honeypot 2021-01-06\n"
     ]
    }
   ],
   "source": [
    "cursor.execute(\"SELECT username, uploadDate FROM video WHERE video.videoID IN (SELECT DISTINCT videoID FROM views WHERE views.username LIKE 'dingbat')\")\n",
    "\n",
    "printTable(cursor)"
   ]
  },
  {
   "cell_type": "code",
   "execution_count": 10,
   "metadata": {},
   "outputs": [
    {
     "name": "stdout",
     "output_type": "stream",
     "text": [
      " username password_hash\n",
      "--------- ------------- \n",
      "  gigecon       #899FF2\n",
      " honeypot       #343321\n"
     ]
    }
   ],
   "source": [
    "cursor.execute(\"SELECT username, password_hash FROM user WHERE user.username IN (SELECT username FROM video WHERE video.videoID IN (SELECT DISTINCT videoID FROM views WHERE views.username LIKE 'dingbat'))\")\n",
    "\n",
    "printTable(cursor)"
   ]
  },
  {
   "cell_type": "markdown",
   "metadata": {},
   "source": [
    "Da videoID und nicht der Titel des Videos der Primärschlüssel ist und der Titel nicht als UNIQUE definiert wurde funktioniert das Hinzufügen ohne Probleme. Es ist nicht sinnvoll in diesem Bezug den Videotitel mit einem UNIQUE constraint zu versehen, da es durchaus häufiger auf Videosharing-Plattformen dazu kommen kann, dass Nutzer Videos mit gleichem Titel hochladen möchten."
   ]
  },
  {
   "cell_type": "code",
   "execution_count": 11,
   "metadata": {},
   "outputs": [],
   "source": [
    "try:\n",
    "    con.execute(\"INSERT INTO video (videoTitle, uploadDate, username) VALUES('my cat watches videos', '2021-01-06', 'brangdag')\")\n",
    "    con.commit()\n",
    "except:\n",
    "    con.rollback()\n",
    "    \n",
    "try:\n",
    "    con.execute(\"INSERT INTO video (videoTitle, uploadDate, username) VALUES('my cat watches videos', '2021-01-06', 'senftorte')\")\n",
    "    con.commit()\n",
    "except:\n",
    "    con.rollback()"
   ]
  },
  {
   "cell_type": "code",
   "execution_count": 12,
   "metadata": {},
   "outputs": [
    {
     "name": "stdout",
     "output_type": "stream",
     "text": [
      " username password_hash\n",
      "--------- ------------- \n",
      "  gigecon       #899FF2\n",
      " honeypot       #343321\n"
     ]
    }
   ],
   "source": [
    "cursor.execute(\"SELECT username, password_hash FROM user WHERE user.username IN (SELECT username FROM video WHERE video.videoID IN (SELECT DISTINCT videoID FROM views WHERE views.username LIKE 'dingbat'))\")\n",
    "\n",
    "printTable(cursor)"
   ]
  },
  {
   "cell_type": "code",
   "execution_count": 13,
   "metadata": {},
   "outputs": [],
   "source": [
    "cursor.close()\n",
    "con.close()"
   ]
  },
  {
   "cell_type": "code",
   "execution_count": null,
   "metadata": {},
   "outputs": [],
   "source": []
  }
 ],
 "metadata": {
  "kernelspec": {
   "display_name": "Python 3",
   "language": "python",
   "name": "python3"
  },
  "language_info": {
   "codemirror_mode": {
    "name": "ipython",
    "version": 3
   },
   "file_extension": ".py",
   "mimetype": "text/x-python",
   "name": "python",
   "nbconvert_exporter": "python",
   "pygments_lexer": "ipython3",
   "version": "3.7.3"
  }
 },
 "nbformat": 4,
 "nbformat_minor": 2
}
