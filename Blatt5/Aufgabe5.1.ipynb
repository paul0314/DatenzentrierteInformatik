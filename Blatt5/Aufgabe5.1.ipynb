{
 "cells": [
  {
   "cell_type": "code",
   "execution_count": 1,
   "metadata": {},
   "outputs": [],
   "source": [
    "import numpy as np\n",
    "from sklearn.datasets import load_wine\n",
    "\n",
    "wine = load_wine()\n",
    "matX = wine[\"data\"]\n",
    "vecY = wine[\"target\"]"
   ]
  },
  {
   "cell_type": "code",
   "execution_count": 2,
   "metadata": {},
   "outputs": [],
   "source": [
    "from sklearn.model_selection import train_test_split\n",
    "from sklearn.tree import DecisionTreeClassifier"
   ]
  },
  {
   "cell_type": "code",
   "execution_count": 3,
   "metadata": {},
   "outputs": [],
   "source": [
    "def accuOfDTC(matX, vecY):\n",
    "    Xtrn, Xtst, ytrn, ytst = train_test_split(matX, vecY, test_size=0.3)\n",
    "    dTree = DecisionTreeClassifier(max_depth=3, criterion=\"gini\")\n",
    "    dTree.fit(Xtrn, ytrn)\n",
    "    pred = dTree.predict(Xtst)\n",
    "    accu = dTree.score(Xtst, ytst)\n",
    "    return accu"
   ]
  },
  {
   "cell_type": "code",
   "execution_count": 4,
   "metadata": {},
   "outputs": [],
   "source": [
    "def avgDTCAccu(matX, vecY, n):\n",
    "    accu = 0\n",
    "    for _ in range(n):\n",
    "        accu += accuOfDTC(matX, vecY)\n",
    "    return accu / n"
   ]
  },
  {
   "cell_type": "code",
   "execution_count": 5,
   "metadata": {},
   "outputs": [
    {
     "name": "stdout",
     "output_type": "stream",
     "text": [
      "0.8962962962962964\n"
     ]
    }
   ],
   "source": [
    "print(avgDTCAccu(matX, vecY, 10))"
   ]
  },
  {
   "cell_type": "code",
   "execution_count": 6,
   "metadata": {},
   "outputs": [
    {
     "name": "stdout",
     "output_type": "stream",
     "text": [
      "0.9073888888888934\n"
     ]
    }
   ],
   "source": [
    "print(avgDTCAccu(matX, vecY, 1000))"
   ]
  },
  {
   "cell_type": "code",
   "execution_count": 7,
   "metadata": {},
   "outputs": [
    {
     "name": "stdout",
     "output_type": "stream",
     "text": [
      "0.8544444444444436\n"
     ]
    }
   ],
   "source": [
    "#max_depth=2\n",
    "accu = 0\n",
    "for _ in range(100):\n",
    "    Xtrn, Xtst, ytrn, ytst = train_test_split(matX, vecY, test_size=0.3)\n",
    "    dTree = DecisionTreeClassifier(max_depth=2, criterion=\"gini\")\n",
    "    dTree.fit(Xtrn, ytrn)\n",
    "    pred = dTree.predict(Xtst)\n",
    "    accu += dTree.score(Xtst, ytst)\n",
    "accu /= 100\n",
    "print(accu)"
   ]
  },
  {
   "cell_type": "code",
   "execution_count": 8,
   "metadata": {},
   "outputs": [
    {
     "name": "stdout",
     "output_type": "stream",
     "text": [
      "0.9048148148148139\n"
     ]
    }
   ],
   "source": [
    "#max_depth=5\n",
    "accu = 0\n",
    "for _ in range(100):\n",
    "    Xtrn, Xtst, ytrn, ytst = train_test_split(matX, vecY, test_size=0.3)\n",
    "    dTree = DecisionTreeClassifier(max_depth=5, criterion=\"gini\")\n",
    "    dTree.fit(Xtrn, ytrn)\n",
    "    pred = dTree.predict(Xtst)\n",
    "    accu += dTree.score(Xtst, ytst)\n",
    "accu /= 100\n",
    "print(accu)"
   ]
  },
  {
   "cell_type": "code",
   "execution_count": 9,
   "metadata": {},
   "outputs": [
    {
     "name": "stdout",
     "output_type": "stream",
     "text": [
      "0.9079629629629619\n"
     ]
    }
   ],
   "source": [
    "#max_depth=8\n",
    "accu = 0\n",
    "for _ in range(100):\n",
    "    Xtrn, Xtst, ytrn, ytst = train_test_split(matX, vecY, test_size=0.3)\n",
    "    dTree = DecisionTreeClassifier(max_depth=8, criterion=\"gini\")\n",
    "    dTree.fit(Xtrn, ytrn)\n",
    "    pred = dTree.predict(Xtst)\n",
    "    accu += dTree.score(Xtst, ytst)\n",
    "accu /= 100\n",
    "print(accu)"
   ]
  },
  {
   "cell_type": "code",
   "execution_count": 10,
   "metadata": {},
   "outputs": [
    {
     "name": "stdout",
     "output_type": "stream",
     "text": [
      "0.9111111111111101\n"
     ]
    }
   ],
   "source": [
    "#max_depth=15\n",
    "accu = 0\n",
    "for _ in range(100):\n",
    "    Xtrn, Xtst, ytrn, ytst = train_test_split(matX, vecY, test_size=0.3)\n",
    "    dTree = DecisionTreeClassifier(max_depth=15, criterion=\"gini\")\n",
    "    dTree.fit(Xtrn, ytrn)\n",
    "    pred = dTree.predict(Xtst)\n",
    "    accu += dTree.score(Xtst, ytst)\n",
    "accu /= 100\n",
    "print(accu)"
   ]
  },
  {
   "cell_type": "code",
   "execution_count": 11,
   "metadata": {},
   "outputs": [
    {
     "name": "stdout",
     "output_type": "stream",
     "text": [
      "0.9233333333333323\n"
     ]
    }
   ],
   "source": [
    "#criterion=\"entropy\"\n",
    "accu = 0\n",
    "for _ in range(100):\n",
    "    Xtrn, Xtst, ytrn, ytst = train_test_split(matX, vecY, test_size=0.3)\n",
    "    dTree = DecisionTreeClassifier(max_depth=3, criterion=\"entropy\")\n",
    "    dTree.fit(Xtrn, ytrn)\n",
    "    pred = dTree.predict(Xtst)\n",
    "    accu += dTree.score(Xtst, ytst)\n",
    "accu /= 100\n",
    "print(accu)"
   ]
  },
  {
   "cell_type": "code",
   "execution_count": 12,
   "metadata": {},
   "outputs": [
    {
     "name": "stdout",
     "output_type": "stream",
     "text": [
      "0.8662962962962953\n"
     ]
    }
   ],
   "source": [
    "#splitter=\"random\"\n",
    "accu = 0\n",
    "for _ in range(100):\n",
    "    Xtrn, Xtst, ytrn, ytst = train_test_split(matX, vecY, test_size=0.3)\n",
    "    dTree = DecisionTreeClassifier(max_depth=3, criterion=\"gini\", splitter=\"random\")\n",
    "    dTree.fit(Xtrn, ytrn)\n",
    "    pred = dTree.predict(Xtst)\n",
    "    accu += dTree.score(Xtst, ytst)\n",
    "accu /= 100\n",
    "print(accu)"
   ]
  },
  {
   "cell_type": "code",
   "execution_count": 13,
   "metadata": {},
   "outputs": [
    {
     "name": "stdout",
     "output_type": "stream",
     "text": [
      "0.8716666666666657\n"
     ]
    }
   ],
   "source": [
    "#splitter=\"random\", criterion=\"entropy\"\n",
    "accu = 0\n",
    "for _ in range(100):\n",
    "    Xtrn, Xtst, ytrn, ytst = train_test_split(matX, vecY, test_size=0.3)\n",
    "    dTree = DecisionTreeClassifier(max_depth=3, criterion=\"entropy\", splitter=\"random\")\n",
    "    dTree.fit(Xtrn, ytrn)\n",
    "    pred = dTree.predict(Xtst)\n",
    "    accu += dTree.score(Xtst, ytst)\n",
    "accu /= 100\n",
    "print(accu)"
   ]
  },
  {
   "cell_type": "code",
   "execution_count": 14,
   "metadata": {},
   "outputs": [
    {
     "name": "stdout",
     "output_type": "stream",
     "text": [
      "0.9137037037037026\n"
     ]
    }
   ],
   "source": [
    "#min_samples_split = 5\n",
    "accu = 0\n",
    "for _ in range(100):\n",
    "    Xtrn, Xtst, ytrn, ytst = train_test_split(matX, vecY, test_size=0.3)\n",
    "    dTree = DecisionTreeClassifier(max_depth=3, criterion=\"gini\", min_samples_split=5)\n",
    "    dTree.fit(Xtrn, ytrn)\n",
    "    pred = dTree.predict(Xtst)\n",
    "    accu += dTree.score(Xtst, ytst)\n",
    "accu /= 100\n",
    "print(accu)"
   ]
  },
  {
   "cell_type": "code",
   "execution_count": 15,
   "metadata": {},
   "outputs": [
    {
     "name": "stdout",
     "output_type": "stream",
     "text": [
      "0.8549999999999994\n"
     ]
    }
   ],
   "source": [
    "#min_samples_split = 50\n",
    "accu = 0\n",
    "for _ in range(100):\n",
    "    Xtrn, Xtst, ytrn, ytst = train_test_split(matX, vecY, test_size=0.3)\n",
    "    dTree = DecisionTreeClassifier(max_depth=3, criterion=\"gini\", min_samples_split=50)\n",
    "    dTree.fit(Xtrn, ytrn)\n",
    "    pred = dTree.predict(Xtst)\n",
    "    accu += dTree.score(Xtst, ytst)\n",
    "accu /= 100\n",
    "print(accu)"
   ]
  },
  {
   "cell_type": "markdown",
   "metadata": {},
   "source": [
    "min_samples_leaf ist sehr ähnlich wie min_samples_split, deshalb lohnt es sich nicht dies auch weiter anzuschauen. Random_state setzen wird die Accuracy stets gleich sein lassen (bezüglich der betrachteten random_state). Deshalb lohnt es sich auch nicht dies näher anzuschauen.\n",
    "Bisher kann man festhalten, dass eine geringere Tiefe die Ergebnisse verschlechtert und eine Erhöhung der Tiefe die Ergebnisse zunächst verbessert und bei zu großer Tiefe wieder schlechter werden lässt.\n",
    "Außerdem scheint Entropy als Kriterium leicht bessere Ergebnisse zu liefern als gini. Für Splitter performt der Default-Wert \"best\" stets besser als \"random\", was zu erwarten ist. Min_samples_split hat für niedrige Werte keinen Einfluss auf die Accuracy und für hohe Werte verschlechtert sie sich."
   ]
  },
  {
   "cell_type": "code",
   "execution_count": 16,
   "metadata": {},
   "outputs": [
    {
     "name": "stdout",
     "output_type": "stream",
     "text": [
      "0.8542592592592584\n"
     ]
    }
   ],
   "source": [
    "#max_features=2\n",
    "accu = 0\n",
    "for _ in range(100):\n",
    "    Xtrn, Xtst, ytrn, ytst = train_test_split(matX, vecY, test_size=0.3)\n",
    "    dTree = DecisionTreeClassifier(max_depth=3, criterion=\"gini\", max_features=2)\n",
    "    dTree.fit(Xtrn, ytrn)\n",
    "    pred = dTree.predict(Xtst)\n",
    "    accu += dTree.score(Xtst, ytst)\n",
    "accu /= 100\n",
    "print(accu)"
   ]
  },
  {
   "cell_type": "code",
   "execution_count": 17,
   "metadata": {},
   "outputs": [
    {
     "name": "stdout",
     "output_type": "stream",
     "text": [
      "0.8824074074074066\n"
     ]
    }
   ],
   "source": [
    "#max_features=4\n",
    "accu = 0\n",
    "for _ in range(100):\n",
    "    Xtrn, Xtst, ytrn, ytst = train_test_split(matX, vecY, test_size=0.3)\n",
    "    dTree = DecisionTreeClassifier(max_depth=3, criterion=\"gini\", max_features=4)\n",
    "    dTree.fit(Xtrn, ytrn)\n",
    "    pred = dTree.predict(Xtst)\n",
    "    accu += dTree.score(Xtst, ytst)\n",
    "accu /= 100\n",
    "print(accu)"
   ]
  },
  {
   "cell_type": "code",
   "execution_count": 18,
   "metadata": {},
   "outputs": [
    {
     "name": "stdout",
     "output_type": "stream",
     "text": [
      "0.9090740740740731\n"
     ]
    }
   ],
   "source": [
    "#max_features=8\n",
    "accu = 0\n",
    "for _ in range(100):\n",
    "    Xtrn, Xtst, ytrn, ytst = train_test_split(matX, vecY, test_size=0.3)\n",
    "    dTree = DecisionTreeClassifier(max_depth=3, criterion=\"gini\", max_features=8)\n",
    "    dTree.fit(Xtrn, ytrn)\n",
    "    pred = dTree.predict(Xtst)\n",
    "    accu += dTree.score(Xtst, ytst)\n",
    "accu /= 100\n",
    "print(accu)"
   ]
  },
  {
   "cell_type": "code",
   "execution_count": 19,
   "metadata": {},
   "outputs": [
    {
     "name": "stdout",
     "output_type": "stream",
     "text": [
      "0.9066666666666654\n"
     ]
    }
   ],
   "source": [
    "#max_features=11\n",
    "accu = 0\n",
    "for _ in range(100):\n",
    "    Xtrn, Xtst, ytrn, ytst = train_test_split(matX, vecY, test_size=0.3)\n",
    "    dTree = DecisionTreeClassifier(max_depth=3, criterion=\"gini\", max_features=11)\n",
    "    dTree.fit(Xtrn, ytrn)\n",
    "    pred = dTree.predict(Xtst)\n",
    "    accu += dTree.score(Xtst, ytst)\n",
    "accu /= 100\n",
    "print(accu)"
   ]
  },
  {
   "cell_type": "markdown",
   "metadata": {},
   "source": [
    "Die Anzahl der maximale Feature zu beschränken hat bei diesem Datenset meist einen negativen Einfluss auf die Accuracy. Jedoch bei einer hohen Wahl von max_features (11) erhält man vergleichbare Ergebnisse."
   ]
  },
  {
   "cell_type": "code",
   "execution_count": 20,
   "metadata": {},
   "outputs": [
    {
     "name": "stdout",
     "output_type": "stream",
     "text": [
      "0.8435185185185177\n"
     ]
    }
   ],
   "source": [
    "#min_impurtiy_decrease = 0.1\n",
    "accu = 0\n",
    "for _ in range(100):\n",
    "    Xtrn, Xtst, ytrn, ytst = train_test_split(matX, vecY, test_size=0.3)\n",
    "    dTree = DecisionTreeClassifier(max_depth=3, criterion=\"gini\", min_impurity_decrease=0.1)\n",
    "    dTree.fit(Xtrn, ytrn)\n",
    "    pred = dTree.predict(Xtst)\n",
    "    accu += dTree.score(Xtst, ytst)\n",
    "accu /= 100\n",
    "print(accu)"
   ]
  },
  {
   "cell_type": "code",
   "execution_count": 21,
   "metadata": {},
   "outputs": [
    {
     "name": "stdout",
     "output_type": "stream",
     "text": [
      "0.8735185185185175\n"
     ]
    }
   ],
   "source": [
    "#min_impurtiy_decrease = 0.05\n",
    "accu = 0\n",
    "for _ in range(100):\n",
    "    Xtrn, Xtst, ytrn, ytst = train_test_split(matX, vecY, test_size=0.3)\n",
    "    dTree = DecisionTreeClassifier(max_depth=3, criterion=\"gini\", min_impurity_decrease=0.05)\n",
    "    dTree.fit(Xtrn, ytrn)\n",
    "    pred = dTree.predict(Xtst)\n",
    "    accu += dTree.score(Xtst, ytst)\n",
    "accu /= 100\n",
    "print(accu)"
   ]
  },
  {
   "cell_type": "code",
   "execution_count": 22,
   "metadata": {},
   "outputs": [
    {
     "name": "stdout",
     "output_type": "stream",
     "text": [
      "0.9038888888888877\n"
     ]
    }
   ],
   "source": [
    "#min_impurtiy_decrease = 0.01\n",
    "accu = 0\n",
    "for _ in range(100):\n",
    "    Xtrn, Xtst, ytrn, ytst = train_test_split(matX, vecY, test_size=0.3)\n",
    "    dTree = DecisionTreeClassifier(max_depth=3, criterion=\"gini\", min_impurity_decrease=0.01)\n",
    "    dTree.fit(Xtrn, ytrn)\n",
    "    pred = dTree.predict(Xtst)\n",
    "    accu += dTree.score(Xtst, ytst)\n",
    "accu /= 100\n",
    "print(accu)"
   ]
  },
  {
   "cell_type": "markdown",
   "metadata": {},
   "source": [
    "Durch ein Setzen von min_impurity_decrease scheint die Accuracy bei kleinen Werten (0.01) ungefähr gleich zu bleiben und für steigende Werte abzunehmen. Dafür wird der resultierende Baum weniger komplex sein. Die restlichen Parameter und Parameterkombinationen werden aus Zeitgründen und ungenauer Aufgabenspezifizierung nicht näher betrachtet."
   ]
  }
 ],
 "metadata": {
  "kernelspec": {
   "display_name": "Python 3",
   "language": "python",
   "name": "python3"
  },
  "language_info": {
   "codemirror_mode": {
    "name": "ipython",
    "version": 3
   },
   "file_extension": ".py",
   "mimetype": "text/x-python",
   "name": "python",
   "nbconvert_exporter": "python",
   "pygments_lexer": "ipython3",
   "version": "3.7.3"
  }
 },
 "nbformat": 4,
 "nbformat_minor": 2
}
